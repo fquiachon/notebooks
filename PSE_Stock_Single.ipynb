{
 "cells": [
  {
   "cell_type": "code",
   "execution_count": null,
   "metadata": {},
   "outputs": [],
   "source": [
    "import pandas as pd\n",
    "import plotly.graph_objects as go\n",
    "from datetime import date, timedelta\n",
    "import requests\n",
    "import matplotlib.pyplot as plt\n",
    "%matplotlib inline\n",
    "import seaborn as sns\n",
    "import numpy as np"
   ]
  },
  {
   "cell_type": "markdown",
   "metadata": {},
   "source": [
    "BDO"
   ]
  },
  {
   "cell_type": "code",
   "execution_count": null,
   "metadata": {},
   "outputs": [],
   "source": [
    "STOCK_CODE='MAC'"
   ]
  },
  {
   "cell_type": "code",
   "execution_count": null,
   "metadata": {},
   "outputs": [],
   "source": [
    "end = date.today()\n",
    "start = end - timedelta(days = 4)"
   ]
  },
  {
   "cell_type": "code",
   "execution_count": null,
   "metadata": {},
   "outputs": [],
   "source": [
    "# Get updated value from phisix-api\n",
    "latest = requests.get(f'http://phisix-api.appspot.com/stocks/{STOCK_CODE}.json').json()\n",
    "last_price = latest['stock'][0]['price']['amount']\n",
    "print(last_price)\n",
    "\n",
    "# get previos data from pselookup\n",
    "data = requests.get(f'https://pselookup.vrymel.com/api/stocks/{STOCK_CODE}/history/{start}/{end}', timeout=5).json()['history']\n",
    "before = data[-1]['close']\n",
    "data[-1]['close']=last_price\n",
    "after = data[-1]['close']\n",
    "print(f'before:{before} after:{after}')"
   ]
  },
  {
   "cell_type": "code",
   "execution_count": null,
   "metadata": {},
   "outputs": [],
   "source": [
    "# df = pd.json_normalize(data)\n",
    "# layout = dict(\n",
    "#             title=f\"{STOCK_CODE} Stock Data\",\n",
    "#             xaxis = dict(\n",
    "#             type=\"category\", \n",
    "#             categoryorder='category ascending'))\n",
    "# fig = go.Figure(data=[go.Candlestick(x=df['trading_date'],\n",
    "#                 open=df['open'],\n",
    "#                 high=df['high'],\n",
    "#                 low=df['low'],\n",
    "#                 close=df['close'])], layout=layout)\n",
    "# fig.show()"
   ]
  },
  {
   "cell_type": "code",
   "execution_count": null,
   "metadata": {},
   "outputs": [],
   "source": [
    "oo_indexed = df.set_index('trading_date')\n",
    "# oo_indexed.volume.plot(kind='bar',figsize=(20,10))"
   ]
  },
  {
   "cell_type": "code",
   "execution_count": null,
   "metadata": {},
   "outputs": [],
   "source": [
    "# oo_indexed.head(5)"
   ]
  },
  {
   "cell_type": "code",
   "execution_count": null,
   "metadata": {},
   "outputs": [],
   "source": [
    "for i in range(2,oo_indexed.shape[0]):\n",
    "    current = oo_indexed.iloc[i,:]\n",
    "    prev = oo_indexed.iloc[i-1,:]\n",
    "    prev_2 = oo_indexed.iloc[i-2,:]\n",
    "\n",
    "    realbody = abs(current['open'] - current['close'])\n",
    "    candle_range = current['high'] - current['low']\n",
    "\n",
    "\n",
    "    if current['open'] < current['close']:\n",
    "        candle_type='Bull'\n",
    "        head_wick = current['high'] - current['close']\n",
    "        tail_wick = current['open'] - current['low']\n",
    "    elif current['open'] == current['close']: \n",
    "        oo_indexed.loc[idx, 'Doji'] = True\n",
    "    else: \n",
    "        candle_type='Bear'\n",
    "        head_wick = current['high'] - current['open']\n",
    "        tail_wick = current['close'] - current['low']\n",
    "\n",
    "    idx = oo_indexed.index[i]\n",
    "\n",
    "    # Bullish swing\n",
    "    oo_indexed.loc[idx,'Bullish swing'] = current['low'] > prev['low'] and prev['low'] < prev_2['low']\n",
    "\n",
    "    # Bearish swing\n",
    "    oo_indexed.loc[idx,'Bearish swing'] = current['high'] < prev['high'] and prev['high'] > prev_2['high']\n",
    "\n",
    "    # Bullish pinbar\n",
    "    oo_indexed.loc[idx,'Bullish pinbar'] = realbody <= candle_range/3 and  min(current['open'], current['close']) > (current['high'] + current['low'])/2 and current['low'] < prev['low']\n",
    "\n",
    "    # Bearish pinbar\n",
    "    oo_indexed.loc[idx,'Bearish pinbar'] = realbody <= candle_range/3 and max(current['open'] , current['close']) < (current['high'] + current['low'])/2 and current['high'] > prev['high']\n",
    "\n",
    "    # Inside bar\n",
    "    oo_indexed.loc[idx,'Inside bar'] = current['high'] < prev['high'] and current['low'] > prev['low']\n",
    "\n",
    "    # Outside bar\n",
    "    oo_indexed.loc[idx,'Outside bar'] = current['high'] > prev['high'] and current['low'] < prev['low']\n",
    "\n",
    "    # Bullish engulfing\n",
    "    oo_indexed.loc[idx,'Bullish engulfing'] = current['high'] > prev['high'] and current['low'] < prev['low'] and realbody >= 0.8 * candle_range and current['close'] > current['open']\n",
    "\n",
    "    # Bearish engulfing\n",
    "    oo_indexed.loc[idx,'Bearish engulfing'] = current['high'] > prev['high'] and current['low'] < prev['low'] and realbody >= 0.8 * candle_range and current['close'] < current['open']\n",
    "\n",
    "    # Bearish Hammer\n",
    "    if realbody > head_wick*2 and tail_wick > head_wick*2:\n",
    "        oo_indexed.loc[idx,f'{candle_type}ish hammer'] = realbody*2 < tail_wick\n",
    "    else:\n",
    "        oo_indexed.loc[idx,f'{candle_type}ish hammer'] = False\n"
   ]
  },
  {
   "cell_type": "code",
   "execution_count": null,
   "metadata": {},
   "outputs": [],
   "source": []
  },
  {
   "cell_type": "code",
   "execution_count": null,
   "metadata": {},
   "outputs": [],
   "source": [
    "bull_swing = oo_indexed[oo_indexed['Bullish swing'] == True]\n",
    "bull_swing"
   ]
  },
  {
   "cell_type": "code",
   "execution_count": null,
   "metadata": {},
   "outputs": [],
   "source": [
    "bull_pinbar = oo_indexed[oo_indexed['Bullish pinbar'] == True]\n",
    "bull_pinbar"
   ]
  },
  {
   "cell_type": "code",
   "execution_count": null,
   "metadata": {},
   "outputs": [],
   "source": [
    "outside_bar = oo_indexed[oo_indexed['Outside bar'] == True]\n",
    "outside_bar"
   ]
  },
  {
   "cell_type": "code",
   "execution_count": null,
   "metadata": {},
   "outputs": [],
   "source": [
    "bull_engulfing = oo_indexed[oo_indexed['Bullish engulfing'] == True]\n",
    "bull_engulfing"
   ]
  },
  {
   "cell_type": "code",
   "execution_count": null,
   "metadata": {},
   "outputs": [],
   "source": [
    "bear_swing = oo_indexed[oo_indexed['Bearish swing'] == True]\n",
    "bear_swing"
   ]
  },
  {
   "cell_type": "code",
   "execution_count": null,
   "metadata": {},
   "outputs": [],
   "source": [
    "bear_pinbar = oo_indexed[oo_indexed['Bearish pinbar'] == True]\n",
    "bear_pinbar"
   ]
  },
  {
   "cell_type": "code",
   "execution_count": null,
   "metadata": {},
   "outputs": [],
   "source": [
    "inside_bar = oo_indexed[oo_indexed['Inside bar'] == True]\n",
    "inside_bar"
   ]
  },
  {
   "cell_type": "code",
   "execution_count": null,
   "metadata": {},
   "outputs": [],
   "source": [
    "bear_engulfing = oo_indexed[oo_indexed['Bearish engulfing'] == True]\n",
    "bear_engulfing"
   ]
  },
  {
   "cell_type": "code",
   "execution_count": null,
   "metadata": {},
   "outputs": [],
   "source": [
    "bull_hammer = oo_indexed[oo_indexed['Bullish hammer'] == True]\n",
    "bull_hammer"
   ]
  },
  {
   "cell_type": "code",
   "execution_count": null,
   "metadata": {},
   "outputs": [],
   "source": [
    "bear_hammer = oo_indexed[oo_indexed['Bearish hammer'] == True]\n",
    "bear_hammer"
   ]
  },
  {
   "cell_type": "code",
   "execution_count": null,
   "metadata": {},
   "outputs": [],
   "source": []
  }
 ],
 "metadata": {
  "kernelspec": {
   "display_name": "Python 3",
   "language": "python",
   "name": "python3"
  },
  "language_info": {
   "codemirror_mode": {
    "name": "ipython",
    "version": 3
   },
   "file_extension": ".py",
   "mimetype": "text/x-python",
   "name": "python",
   "nbconvert_exporter": "python",
   "pygments_lexer": "ipython3",
   "version": "3.8.3"
  }
 },
 "nbformat": 4,
 "nbformat_minor": 4
}

{
 "cells": [
  {
   "cell_type": "code",
   "execution_count": null,
   "metadata": {},
   "outputs": [],
   "source": [
    "import pandas as pd\n",
    "import plotly.graph_objects as go\n",
    "from datetime import date, timedelta, datetime\n",
    "import requests\n",
    "import matplotlib.pyplot as plt\n",
    "%matplotlib inline\n",
    "import seaborn as sns\n",
    "import numpy as np"
   ]
  },
  {
   "cell_type": "code",
   "execution_count": null,
   "metadata": {},
   "outputs": [],
   "source": [
    "date_time_str = '2020-12-12'\n",
    "today = datetime.strptime(date_time_str, '%Y-%m-%d')\n",
    "\n",
    "end = today\n",
    "start = end - timedelta(days = 6)\n",
    "print(f'start:{start} and end:{end}')"
   ]
  },
  {
   "cell_type": "code",
   "execution_count": null,
   "metadata": {},
   "outputs": [],
   "source": [
    "# latest = requests.get('https://pselookup.vrymel.com/api/stocks').json()[\"stocks\"]\n",
    "# ticker_codes = [x['ticker_symbol'] for x in latest]\n",
    "# print(ticker_codes)\n",
    "\n",
    "# with open(\"ticker_codes.csv\", \"w\") as f:\n",
    "#     f.write(','.join(ticker_codes))\n",
    "\n",
    "ticker_codes = []\n",
    "with open(\"ticker_codes.csv\", \"r\") as f:\n",
    "    ticker_codes = f.readline().split(',') \n",
    "#     \n",
    "print(ticker_codes)"
   ]
  },
  {
   "cell_type": "code",
   "execution_count": null,
   "metadata": {},
   "outputs": [],
   "source": [
    "#reference https://www.stockswechart.com/pse-chart/blue-chip-stocks-pse/\n",
    "ticker_codes = [ \"MFC\", \"SMPH\", \"SM\", \"SLF\", \"ALI\", \"FB\", \"AC\", \"BDO\", \"JGS\", \"MER\", \"SMC\", \"BPI\",\n",
    "                \"JFC\", \"URC\", \"AEV\", \"MBT\", \"ICT\", \"AP\", \"GLO\", \"TEL\", \"HVN\", \"MEG\", \"GTCAP\", \"LTG\", 'CEB',\n",
    "                \"AGI\", \"DMC\", \"MPI\", \"PGOLD\", \"BLOOM\", \"FDC\", \"MAC\", 'LOTO', 'FLI', 'MM', 'DITO', 'PHR', 'ACEN' ]\n",
    "# ticker_codes = ['BDO']\n",
    "print(ticker_codes)"
   ]
  },
  {
   "cell_type": "code",
   "execution_count": null,
   "metadata": {},
   "outputs": [],
   "source": [
    "\n",
    "quad = []\n",
    "trip = []\n",
    "doub = []\n",
    "single = []\n",
    "below = []\n",
    "increased_symbols = {\n",
    "    \"Quadrupled\": quad,\n",
    "    \"Tripled\": trip,\n",
    "    \"Doubled\": doub,\n",
    "    \"Same\": single,\n",
    "    \"Below\": below,\n",
    "    \"Status\": \"Not Started\"\n",
    "}\n",
    "    \n",
    "# end_datetime = datetime.now()\n",
    "# start_datetime = end_datetime - timedelta(days=10)\n",
    "\n",
    "\n",
    "start_datetime = '2020-11-27'\n",
    "\n",
    "end_datetime = '2020-12-18'\n",
    "\n",
    "\n",
    "\n",
    "print(f'start: {start_datetime} and end: {end_datetime}')\n",
    "\n",
    "for code in ticker_codes:\n",
    "    code = code.upper()\n",
    "    # Get updated value from phisix-api\n",
    "    try:\n",
    "        print(f'looking up for {code}...')\n",
    "    #     latest = requests.get(f'http://phisix-api.appspot.com/stocks/{code}.json', timeout=10).json()\n",
    "    #     last_price = latest['stock'][0]['price']['amount']\n",
    "    #     date = latest['as_of']\n",
    "        my_url = f'https://pselookup.vrymel.com/api/stocks/{code}/history/{start_datetime}/{end_datetime}'\n",
    "        print(my_url)\n",
    "        #get previos data from pselookup\n",
    "        data = requests.get(my_url, timeout=15).json()['history']\n",
    "        result = pd.json_normalize(data)\n",
    "        previous_averaged_volume = int(result['volume'].iloc[0:9].mean())\n",
    "        todays_volume = result.volume.iloc[-1]\n",
    "        todays_close = result.close.iloc[-1]\n",
    "        todays_date = result.trading_date.iloc[-1]\n",
    "        print(f'current:{todays_volume}, previous:{previous_averaged_volume}')\n",
    "\n",
    "        if 4 <= (todays_volume / previous_averaged_volume):\n",
    "            quad.append({'symbol': code,\n",
    "                         'date': todays_date,\n",
    "                         'price': todays_close,\n",
    "                         'size': f'{(todays_volume / previous_averaged_volume):.2f}'})\n",
    "        elif 3 <= (todays_volume / previous_averaged_volume):\n",
    "            trip.append({'symbol': code,\n",
    "                         'date': todays_date,\n",
    "                         'price': todays_close,\n",
    "                         'size': f'{(todays_volume / previous_averaged_volume):.2f}'})\n",
    "        elif 2 <= (todays_volume / previous_averaged_volume):\n",
    "            doub.append({'symbol': code,\n",
    "                         'date': todays_date,\n",
    "                         'price': todays_close,\n",
    "                         'size': f'{(todays_volume / previous_averaged_volume):.2f}'})\n",
    "        elif 1 <= (todays_volume / previous_averaged_volume):\n",
    "            single.append({'symbol': code,\n",
    "                           'date': todays_date,\n",
    "                         'price': todays_close,\n",
    "                           'size': f'{(todays_volume / previous_averaged_volume):.2f}'})\n",
    "        else:\n",
    "            below.append({'symbol': code,\n",
    "                          'date': todays_date,\n",
    "                         'price': todays_close,\n",
    "                          'size': f'{(todays_volume / previous_averaged_volume):.2f}'})\n",
    "        \n",
    "    except Exception as e:\n",
    "        print(f'Failed for Code{code}, {data}, {e}')\n",
    "        continue\n",
    "            \n",
    "print()\n",
    "print('===== QUAD =====')\n",
    "for x in quad:\n",
    "    print(x)\n",
    "print('===== TRIP =====')\n",
    "for x in trip:\n",
    "    print(x)\n",
    "print('===== DOUBLED =====')\n",
    "for x in doub:\n",
    "    print(x)\n",
    "print('===== SINGLED =====')\n",
    "print(f'total: {len(single)}')\n",
    "print('===== LOW =====')\n",
    "print(f'total: {len(below)}')\n"
   ]
  },
  {
   "cell_type": "code",
   "execution_count": null,
   "metadata": {},
   "outputs": [],
   "source": []
  },
  {
   "cell_type": "code",
   "execution_count": null,
   "metadata": {},
   "outputs": [],
   "source": [
    "print()\n",
    "print('===== QUAD =====')"
   ]
  },
  {
   "cell_type": "code",
   "execution_count": null,
   "metadata": {},
   "outputs": [],
   "source": []
  },
  {
   "cell_type": "code",
   "execution_count": null,
   "metadata": {},
   "outputs": [],
   "source": []
  }
 ],
 "metadata": {
  "kernelspec": {
   "display_name": "Python 3",
   "language": "python",
   "name": "python3"
  },
  "language_info": {
   "codemirror_mode": {
    "name": "ipython",
    "version": 3
   },
   "file_extension": ".py",
   "mimetype": "text/x-python",
   "name": "python",
   "nbconvert_exporter": "python",
   "pygments_lexer": "ipython3",
   "version": "3.8.3"
  }
 },
 "nbformat": 4,
 "nbformat_minor": 4
}

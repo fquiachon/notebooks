{
 "cells": [
  {
   "cell_type": "code",
   "execution_count": 2,
   "metadata": {},
   "outputs": [],
   "source": [
    "import pandas as pd\n",
    "import plotly.graph_objects as go\n",
    "from datetime import date, timedelta\n",
    "import requests\n",
    "import matplotlib.pyplot as plt\n",
    "%matplotlib inline\n",
    "import seaborn as sns\n",
    "import numpy as np"
   ]
  },
  {
   "cell_type": "code",
   "execution_count": null,
   "metadata": {},
   "outputs": [],
   "source": [
    "tech = [\"GOOG\", \"AMZN\", \"FB\", \"MSFT\", \"ZNGA\", \"CSCO\", \"HPQ\", \"IBM\", \"INTC\", \"T\", \"VZ\", \"VOD\", \"YNDX\",\n",
    "        \"CHL\", \"RENN\", \"TEO\", \"TEF\", \"AMX\", \"NOK\", \"FSLR\", \"TRIP\", \"EA\", \"ADBE\", \"MSI\", \"WDC\", \"MU\",\n",
    "        \"ADSK\", \"ORCL\", \"NVDA\", \"BIDU\", \"ATVI\", \"CHKP\", \"TWTR\", \"SPOT\", \"DBX\", \"TCEHY\", \"WIX\", \"PINS\",\n",
    "        \"SAP\", \"DTE\", \"STM\", \"AMS\", \"JMEI\", \"NTES\", \"JD\", \"ATHM\", \"MOMO\", \"TTWO\", \"PYPL\", \"QCOM\", \"XRX\",\n",
    "        \"CTL\", \"JBL\", \"TXN\", \"ADP\", \"CDW\", \"CTSH\", \"GLW\", \"AMAT\", \"NCR\", \"FIS\", \"NTAP\", \"SANM\", \"AMD\",\n",
    "        \"CRM\", \"APH\", \"NSIT\", \"LDOS\", \"TDS\", \"JNPR\", \"LRCX\", \"INTU\", \"SNAP\", \"VOD\", \"CAPC\", \"MTRO\", \"HACK\",\n",
    "        \"AKAM\", \"ALLT\", \"ANSS\", \"AUDC\", \"BB\", \"BITA\", \"BV\", \"CALX\", \"CERN\", \"CMCM\", \"CYBR\", \"FEYE\", \"FIVN\",\n",
    "        \"GDDY\", \"GIB\", \"GRMN\", \"GSAT\", \"HUBS\", \"IMOS\", \"INFY\", \"IPGP\", \"LORL\", \"MODN\", \"MXL\", \"NATI\", \"NEWR\",\n",
    "        \"NLSN\", \"NUAN\", \"NXPI\", \"PANW\", \"POWI\", \"PRO\", \"SBAC\", \"SHOP\", \"SIGM\", \"SSYS\", \"ST\", \"SWKS\", \"SYNA\",\n",
    "        \"TRMB\", \"VIAV\", \"VMW\", \"VRSN\", \"WUBA\", \"YELP\", \"ZEN\", \"COMM\", \"DNB\", \"HIMX\", \"AVGO\", \"ASML\", \"NOW\",\n",
    "        \"DELL\", \"WDAY\", \"ADI\", \"XLNX\", \"PAYX\", \"TEAM\", \"HPE\", \"MCHP\", \"KLAC\", \"SPLK\", \"VEEV\", \"CDNS\", \"SNPS\",\n",
    "        \"DXC\", \"MSCI\", \"TWLO\", \"MXIM\", \"FTNT\", \"STX\", \"MRVL\", \"CTXS\", \"BR\", \"PAYC\", \"ON\", \"DOCU\", \"GWRE\", \"MDB\",\n",
    "        \"NTNX\", \"COUP\", \"LITE\", \"JKHY\", \"SKYY\", \"TME\", \"WB\"]\n",
    "symbol_list = tech \n",
    "print(symbol_list)"
   ]
  },
  {
   "cell_type": "code",
   "execution_count": null,
   "metadata": {},
   "outputs": [],
   "source": [
    "consumer_goods = [\"AAPL\", \"KO\", \"HMC\", \"MANU\", \"NKE\", \"PEP\", \"SNE\", \"TM\", \"CL\", \"TSLA\", \"F\", \"RL\", \"HOG\", \"KDP\", \"STZ\", \"DLPH\", \"PCRFY\", \"XI\", \"LEVI\", \"ADS\", \"FR\", \"MC\", \"OR\", \"UG\", \"VIV\", \"FCA\", \"MS\", \"CMCSA\", \"COST\", \"FOX\", \"GPRO\", \"K\", \"CPRI\", \"LOW\", \"M\", \"MCK\", \"PM\", \"SHAK\", \"TGT\", \"TTM\", \"WBA\", \"ABC\", \"KR\", \"GM\", \"CAH\", \"JCI\", \"TSN\", \"MDLZ\", \"QRTEA\", \"KMB\", \"WHR\", \"PCAR\", \"GT\", \"MO\", \"GIS\", \"CAG\", \"LEA\", \"PAG\", \"ECL\", \"VFC\", \"EL\", \"HRL\", \"CCK\", \"DLTR\", \"BLL\", \"CPB\", \"VC\", \"BWA\", \"PVH\", \"MHK\", \"SEE\", \"FL\", \"OSK\", \"OI\", \"LKQ\", \"DAN\", \"AVY\", \"MAT\", \"PKG\", \"NWL\", \"INGR\", \"SJM\", \"CLX\", \"UFS\", \"LAD\", \"HBI\", \"BERY\", \"TPR\", \"COTY\", \"ANDE\", \"PII\", \"RACE\", \"ENR\", \"FBHS\", \"HAS\", \"RFP\", \"MKC\", \"GPK\", \"GEF\", \"TAP\", \"BC\", \"LEG\", \"SLGN\", \"FIT\", \"NTDOY\", \"CCH\", \"CCL\", \"REX\", \"SAB\", \"TT\"]\n",
    "symbol_list = consumer_goods \n",
    "print(symbol_list)"
   ]
  },
  {
   "cell_type": "code",
   "execution_count": null,
   "metadata": {},
   "outputs": [],
   "source": [
    "commondities = ['AA', 'CVX', 'DD', 'XOM', 'TX', 'PBR', 'VALE', 'NBL', 'MOS', 'RDS.B', 'FMC', 'DOW', 'COP', 'ET', 'EPD', 'PAGP', 'INT', 'HAL', 'IP', 'NOV', 'FCX', 'NUE', 'HES', 'CHK', 'PBF', 'HFC', 'DVN', 'EOG', 'X', 'KMI', 'PPG', 'APA', 'HUN', 'SHW', 'RS', 'APD', 'NGL', 'EMN', 'STLD', 'STI', 'TRGP', 'DK', 'MUR', 'FTI', 'ASH', 'NEM', 'CMC', 'CE', 'BTU', 'MRC', 'SE', 'CLMT', 'PXD', 'SRLP', 'SON', 'DNO', 'FOE', 'PRS', 'TGS', 'SAND', 'EVK', 'BNR', 'RCP', 'DLN', 'AXTA', 'DNOW', 'KRO', 'LNG', 'NWPX', 'RIG', 'SAEX', 'SU', 'RDS.A', 'BHP', 'RIO', 'LIN', 'PBR.A', 'ENB', 'SLB', 'OXY', 'LYB', 'CXO', 'FANG', 'IFF', 'MRO', 'COG', 'XEC', 'PE', 'WLL']\n",
    "symbol_list = commondities \n",
    "print(symbol_list)"
   ]
  },
  {
   "cell_type": "code",
   "execution_count": null,
   "metadata": {},
   "outputs": [],
   "source": [
    "health_care = ['JNJ', 'MRK', 'PFE', 'UNH', 'AMGN', 'ACB', 'SMG', 'CARA', 'ZYNE', 'CRBP', 'CRON', 'APHA', 'TLRY', 'BAYN', 'AI', 'EL', 'SAN', 'GRF', 'NOVN', 'ROG', 'ABBV', 'BIIB', 'CVS', 'GILD', 'MDT', 'ANTM', 'HUM', 'HCA', 'CI', 'ABT', 'CYH', 'LLY', 'SYK', 'MOH', 'UHS', 'BDX', 'DGX', 'A', 'LH', 'IQV', 'REGN', 'SGMO', 'AZN', 'GSK', 'GEN', 'EVT', 'QGEN', 'MOR', 'CBPO', 'CMRX', 'COO', 'GWPH', 'ICPT', 'ILMN', 'INCY', 'IONS', 'JAZZ', 'PBYI', 'PHO', 'PRGO', 'SGEN', 'VAR', 'VRTX', 'BHC', 'WAT', 'XRAY', 'ZTS', 'GRA']\n",
    "\n",
    "symbol_list = health_care \n",
    "print(symbol_list)"
   ]
  },
  {
   "cell_type": "code",
   "execution_count": null,
   "metadata": {},
   "outputs": [],
   "source": [
    "finance = [\"AXP\", \"BAC\", \"JPM\", \"TRV\", \"C\", \"HBC\", \"MA\", \"V\", \"DB\", \"QIWI\", \"SAN\", \"BRK.B\", \"WU\", \"DEM\", \"AGNC\", \"ALV\", \"MUV2\", \"DB1\", \"CBK\", \"ACA\", \"BNP\", \"CS\", \"GLE\", \"UL\", \"AZM\", \"BMPS\", \"BP\", \"BPE\", \"EXO\", \"GASI\", \"ISP\", \"MDBI\", \"MED\", \"PMI\", \"UBI\", \"UCG\", \"US\", \"BBVA\", \"BKIA\", \"BKT\", \"BME\", \"CABK\", \"MAP\", \"POP\", \"SAB\", \"SBERL\", \"CSGN\", \"BAER\", \"CFR\", \"SLHN\", \"SREN\", \"UBSG\", \"ZURN\", \"COF\", \"GS\", \"MET\", \"WFC\", \"FNMA\", \"AIG\", \"ALL\", \"INTL\", \"AFL\", \"USB\", \"PGR\", \"HIG\", \"BK\", \"PNC\", \"L\", \"CB\", \"LNC\", \"MMC\", \"JEF\", \"AMP\", \"BLK\", \"VOYA\", \"RGA\", \"STT\", \"UNM\", \"PFG\", \"AIZ\", \"BBT\", \"ALLY\", \"DFS\", \"GNW\", \"FNF\", \"CBRE\", \"BEN\", \"KKR\", \"BX\", \"WRB\", \"FITB\", \"SCHW\", \"AFG\", \"NAVI\", \"ORI\", \"JLL\", \"RF\", \"HST\", \"RLGY\", \"Y\", \"MKL\", \"THG\", \"RJF\", \"CINF\", \"SPG\", \"Z\", \"MTB\", \"FAF\", \"AJG\", \"ICE\", \"NTRS\", \"LPLA\", \"KEY\", \"CNO\", \"AMT\", \"AFSI\", \"TROW\", \"TMK\", \"ARGO\", \"MS\", \"ADM\", \"ADN\", \"AV\", \"BARC\", \"BLND\", \"HL\", \"HMSO\", \"HSBA\", \"LAND\", \"LGEN\", \"LLOY\", \"LSE\", \"OML\", \"PRU\", \"RBS\", \"RSA\", \"RSL\", \"SDR\", \"SLA\", \"STAN\", \"III\", \"BPM\", \"SGRO.L\", \"SMT.L\", \"QLT.L\", \"DNB\", \"NDA_SE\", \"SEB-A\", \"SHB-A\", \"SWED-A\", \"INVE-A\", \"KINV-A\", \"INDU-A\", \"LUND-B\", \"ORSTED\", \"TRYG\", \"NDA1V\", \"SAMPO\", \"0939.HK\", \"3988.HK\", \"1398.HK\", \"1288.HK\", \"2007.HK\", \"0998.HK\", \"1988.HK\", \"1339.HK\", \"1359.HK\", \"2318.HK\", \"2328.HK\", \"2628.HK\", \"3328.HK\", \"0688.HK\", \"1299.HK\", \"2601.HK\", \"3968.HK\", \"1966.HK\", \"6030.HK\", \"1628.HK\", \"0656.HK\", \"1109.HK\", \"00011.HK\", \"00016.HK\", \"00017.HK\", \"00388.HK\", \"00966.HK\", \"01113.HK\", \"01336.HK\", \"02388.HK\", \"03333.HK\", \"03908.HK\", \"06060.HK\", \"06837.HK\", \"06881.HK\", \"06886.HK\", \"DWNI\", \"WDI\", \"GYC\", \"TEG\", \"AOX\", \"ARL\", \"PAT\", \"DEQ\", \"VNA.DE\", \"AT1.DE\", \"LEG.DE\", \"DWS.DE\", \"GLJ.DE\", \"TLG.DE\", \"ADJ.DE\", \"MGAM\", \"COA\", \"SHI\", \"HAS\", \"SMDS\", \"HTG\", \"JLG\", \"RSW.L\", \"BBA\", \"SOPH\", \"STOB\", \"ISAT\", \"UBM\", \"IWG\", \"TMPL\", \"PAGE\", \"SGC\", \"ASCL\", \"CEY\", \"PNL\", \"HOC\", \"ACA.L\", \"JAM\", \"JLT\", \"HICL\", \"FDM\", \"CINE\", \"BKG\", \"TRIG\", \"EVR\", \"IBST\", \"EMG\", \"MLC\", \"VSVS\", \"GNK\", \"UKW\", \"RPC\", \"INCH\", \"DOM\", \"MONY\", \"QQ\", \"BEZ\", \"ASL\", \"INVP\", \"CTY\", \"BNKR\", \"SAFE\", \"SMWH\", \"WKP\", \"HSV\", \"PNN\", \"BWNG\", \"ETO\", \"CLDN\", \"MNKS\", \"FCIT\", \"DCG\", \"BME.L\", \"ECM\", \"AGR\", \"3IN\", \"NRR\", \"VCT\", \"BTEM\", \"RDI\", \"UDG\", \"GPOR\", \"GNC.L\", \"MAB\", \"MARS\", \"BAG\", \"JUST\", \"CARD\", \"JDW\", \"SNN\", \"KIE\", \"CBG\", \"JLIF\", \"DNLM\", \"BVS\", \"ASHM\", \"GNS\", \"NOG\", \"BTG.L\", \"VEIL\", \"JII\", \"SXX\", \"VEC\", \"PSH\", \"JE\", \"RSE\", \"VOF\", \"SEQI\", \"SDP\", \"PFG.L\", \"PHP\", \"PIN\", \"JEO\", \"FCS\", \"EFM\", \"CCFS\", \"CGEO\", \"BGFD\", \"LQDE\", \"IAEX\", \"IAPD\", \"SWDA\", \"IEML\", \"ISF\", \"IMIB\", \"SEMB\", \"IFFF\", \"IBZL\", \"IDEM\", \"IMEU\", \"IJPE\", \"ITWN\", \"IUSA\", \"IUKP\", \"VXX\", \"CPJ1\", \"CSPX\", \"CUKX\", \"EMIM\", \"ERNE\", \"GHYS\", \"IEUX\", \"IGLS\", \"IGLT\", \"IGUS\", \"IJPH\", \"INXG\", \"IWDP\", \"MIDD\", \"SGLN\", \"SJPA\", \"SLXX\", \"XIV\", \"SHY\", \"IEF\", \"DBA\", \"CORN\", \"WEAT\", \"UGA\", \"INDY\", \"BKF\", \"IAI\", \"RWR\", \"SGG\", \"BAL\", \"JO\", \"PBW\", \"PPA\", \"EWY\", \"ILF\", \"EWM\", \"EWW\", \"EWT\", \"GGOV\", \"LQD\", \"BOND\", \"GSY\", \"FPE\", \"HYLS\", \"WIP\", \"IGOV\", \"IHY\", \"IBND\", \"AUNZ\", \"HYEM\", \"SPFF\", \"FTSL\", \"VXXB\", \"ACWI\", \"AMG\", \"BPY\", \"BSAC\", \"CIT\", \"CME\", \"DHIL\", \"ESGR\", \"ESNT\", \"FXCM\", \"GLPI\", \"GRC\", \"IBKR\", \"LAMR\", \"MAA\", \"SBNY\", \"SEIC\", \"SUPV\", \"LM\", \"LAZ\", \"CACC\", \"RNR\", \"MMI\", \"FCPT\", \"RMAX\", \"BGN.MI\", \"BPM.MI\", \"FBK.MI\", \"VTI\", \"VOO\", \"ITUB\", \"VEA\", \"BBD\", \"VWO\", \"CCI\", \"VTV\", \"PLD\", \"IWF\", \"PRU\", \"VUG\", \"EQIX\", \"IWD\", \"PSA\", \"BND\", \"VNQ\", \"WELL\", \"AMTD\", \"AVB\", \"EQR\", \"DLR\", \"USMV\", \"VCSH\", \"BSV\", \"VEU\", \"SYF\", \"IVW\", \"VCIT\", \"VTR\", \"O\", \"TIP\", \"BXP\", \"VGT\", \"IWB\", \"SHV\", \"IWR\", \"FRC\", \"EMB\", \"CFG\", \"PFF\", \"NLY\", \"HBAN\", \"VGK\", \"IAU\", \"SIVB\", \"CMA\", \"ETFC\", \"MINT\", \"QUAL\", \"SPLV\", \"JNK\", \"ADS\", \"IWO\", \"AMLP\", \"IWN\", \"ZION\", \"MTUM\", \"BIL\", \"EZU\", \"XLC\", \"BKLN\", \"INDA\", \"SLV\", \"XBI\", \"MCHI\", \"AAXJ\", \"BHF\", \"XLB\", \"ELLI\", \"EWH\", \"XLRE\", \"KRE\", \"FEZ\", \"EWG\", \"ASHR\", \"KBE\", \"KWEB\", \"XS6R.L\", \"IBGM.L\", \"IGLO.L\", \"CRPS.L\", \"SQQQ\", \"TVIX\", \"TZA\", \"FAZ\", \"SOXX\", \"SCO\", \"XCX5.L\", \"ABN.NV\", \"AGN.NV\", \"ASRNL.NV\", \"FLOW.NV\", \"HAL.NV\", \"INTER.NV\", \"NIBC.NV\", \"NN.NV\", \"PSH.NV\", \"TFG.NV\", \"WHA.NV\", \"AMUN.PA\", \"CNP.PA\", \"ENX.PA\", \"LI.PA\", \"KN.PA\", \"NXI.PA\", \"PLUS\", \"CMCX\", \"GCAP\"]\n",
    "symbol_list = health_care \n",
    "print(symbol_list)"
   ]
  },
  {
   "cell_type": "code",
   "execution_count": 6,
   "metadata": {},
   "outputs": [
    {
     "name": "stdout",
     "output_type": "stream",
     "text": [
      "['AAPL']\n"
     ]
    }
   ],
   "source": [
    "services = [\"AMZN\", \"DIS\", \"HD\", \"MCD\", \"WMT\", \"TWX\", \"EBAY\", \"DTV\", \"TV\", \"LVS\", \"GPS\", \"URBN\", \"NFLX\", \"ANF\", \"FDX\", \"CAR\", \"SBUX\", \"PETM\", \"BABA\", \"ETSY\", \"RYAAY\", \"OSTK\", \"LYFT\", \"UBER\", \"BYND\", \"DPW\", \"LHA\", \"AC\", \"AIR\", \"ORA\", \"PUB\", \"ABE\", \"TL5\", \"CTRP\", \"JOBS\", \"ADEN\", \"ACN\", \"AAL\", \"BKNG\", \"SYY\", \"IM\", \"BBY\", \"DAL\", \"UAL\", \"SHLD\", \"TJX\", \"TECD\", \"AVT\", \"RAD\", \"TWC\", \"ARW\", \"SPLS\", \"MAN\", \"KSS\", \"LUV\", \"SVU\", \"AES\", \"GLP\", \"ODP\", \"GPC\", \"OMC\", \"MUSA\", \"ARMK\", \"DISH\", \"WFM\", \"SNX\", \"VIAB\", \"JWN\", \"CHRW\", \"YUM\", \"KMX\", \"JEC\", \"CSX\", \"JCP\", \"RRD\", \"BBBY\", \"LB\", \"ROST\", \"HLT\", \"HSIC\", \"MGM\", \"GWW\", \"GPI\", \"AAP\", \"AZO\", \"OMI\", \"GME\", \"SAH\", \"HDS\", \"CHTR\", \"DRI\", \"CZR\", \"NWSA\", \"ACM\", \"CORE\", \"SPTN\", \"WCC\", \"TA\", \"IPG\", \"ORLY\", \"CASY\", \"LYV\", \"DKS\", \"UNFI\", \"DDS\", \"R\", \"EXPD\", \"CVC\", \"AXE\", \"BKS\", \"KBR\", \"DISCA\", \"JBHT\", \"HOT\", \"ABG\", \"JBLU\", \"EXPE\", \"URI\", \"KELYA\", \"BAH\", \"WYNN\", \"ALK\", \"ESND\", \"WYND\", \"SPGI\", \"BIG\", \"YRCW\", \"FISV\", \"ABM\", \"QUAD\", \"BURL\", \"ASNA\", \"MIK\", \"RUSHB\", \"WSM\", \"RHI\", \"CTAS\", \"FWONA\", \"BLMN\", \"H\", \"VWR\", \"KNX\", \"TIF\", \"CMG\", \"PDCO\", \"WSO\", \"GNC\", \"MAR\", \"SQ\", \"MTCH\", \"HRMS\", \"AGK\", \"AHT\", \"BAB\", \"BNZL\", \"BRBY\", \"SKY\", \"CPG\", \"CPI\", \"EXPN\", \"EZJ\", \"GFS\", \"IAG\", \"IHG\", \"ITRK\", \"ITV\", \"KGF\", \"MKS\", \"MRW\", \"NXT\", \"PSON\", \"REL\", \"RMG\", \"SBRY\", \"TSCO\", \"WMH\", \"WPP\", \"WTB\", \"BDEV.L\", \"DCC.L\", \"DLG.L\", \"INF.L\", \"MCRO.L\", \"PPB.L\", \"RTO.L\", \"SKG.L\", \"TUI.L\", \"ASC.L\", \"RYA.L\", \"GJF\", \"GOGL\", \"NAS\", \"STB\", \"TELIA\", \"0762.HK\", \"0728.HK\", \"0700.HK\", \"00001.HK\", \"00019.HK\", \"00763.HK\", \"03690.HK\", \"O2D\", \"KGX\", \"FNTN\", \"UTDI\", \"RRTL\", \"HNR1.DE\", \"TLX.DE\", \"FRA.DE\", \"DHER.DE\", \"G24.DE\", \"SPR.DE\", \"SIX2.DE\", \"PSM.DE\", \"SAX.DE\", \"PCT\", \"CYBG\", \"ALLE\", \"AN\", \"ARII\", \"CHDN\", \"UNIT\", \"DPZ\", \"EAT\", \"FLT\", \"GHC\", \"HAIN\", \"HRI\", \"HTZ\", \"LABL\", \"LBTYA\", \"LBTYK\", \"LGF\", \"LILA\", \"LSXMA\", \"MCO\", \"MEG\", \"MELI\", \"WBT\", \"MMYT\", \"MNST\", \"P\", \"QSR\", \"SAVE\", \"SCI\", \"SERV\", \"SIG\", \"TIVO\", \"VIPS\", \"VRSK\", \"W\", \"WLTW\", \"LEE\", \"SIX\", \"AON\", \"OUT\", \"PST.MI\", \"REC.MI\", \"UNI.MI\", \"TMUS\", \"SIRI\", \"ANET\", \"IAC\", \"ATUS\", \"OKTA\", \"FFIV\", \"TTD\", \"ZS\", \"ROKU\", \"ZAYO\", \"GRUB\", \"CIEN\", \"IGHY.L\", \"FTI.PA\", \"BOL.PA\", \"IPS.PA\", \"MMB.PA\", \"MMT.PA\", \"FSLY\", \"FVRR\"]\n",
    "symbol_list = health_care \n",
    "print(symbol_list)"
   ]
  },
  {
   "cell_type": "markdown",
   "metadata": {},
   "source": [
    "<h3> https://finnhub.io/dashboard </h3>\n",
    "\n",
    "* API Key: bv1io9f48v6o8tuv6db0\n",
    "* SANDBox API key: sandbox_bv1io9f48v6o8tuv6dbg\n",
    "* Webhook Secret: bv1io9f48v6o8tuv6dc0"
   ]
  },
  {
   "cell_type": "code",
   "execution_count": 7,
   "metadata": {},
   "outputs": [
    {
     "name": "stdout",
     "output_type": "stream",
     "text": [
      "['AEP', 'AMZN', 'AMD', 'AAPL', 'AZO', 'BABA', 'FB', 'GOOG', 'MSFT', 'NIO', 'NVDA', 'CSCO', 'TSLA', 'ZM', 'KO', 'PFE']\n"
     ]
    }
   ],
   "source": [
    "#reference https://www.stockswechart.com/pse-chart/blue-chip-stocks-pse/\n",
    "# symbol_list = [ \"GOLD\" ]\n",
    "blue_chips = [ \"AEP\", \"AMZN\", \"AMD\", \"AAPL\", \"AZO\", \"BABA\", \"FB\", \"GOOG\", \"MSFT\", \"NIO\", \"NVDA\",\n",
    "               \"CSCO\", \"TSLA\", \"ZM\", \"KO\", \"PFE\" ]\n",
    "\n",
    "symbol_list = blue_chips \n",
    "print(symbol_list)"
   ]
  },
  {
   "cell_type": "code",
   "execution_count": 9,
   "metadata": {},
   "outputs": [
    {
     "name": "stdout",
     "output_type": "stream",
     "text": [
      "['AMD']\n"
     ]
    }
   ],
   "source": [
    "symbol_list = ['AMD'] \n",
    "print(symbol_list)"
   ]
  },
  {
   "cell_type": "code",
   "execution_count": 12,
   "metadata": {},
   "outputs": [
    {
     "name": "stdout",
     "output_type": "stream",
     "text": [
      "2020-12-24\n",
      "2021-01-03\n",
      "looking up for AMD...\n",
      "\n",
      "\n",
      "=========== BULLS =============\n",
      "Bullish Swing\n",
      "['AMD:2020-12-30']\n",
      "Bullish Pinbar\n",
      "[]\n",
      "Bullish Engulfing\n",
      "[]\n",
      "Bullish Hammer\n",
      "[]\n",
      "========== BEARS ==============\n",
      "Bearish Swing\n",
      "['AMD:2020-12-31']\n",
      "Bearish Pinbar\n",
      "[]\n",
      "Bearish Engulfing\n",
      "[]\n",
      "Bearish Hammer\n",
      "[]\n",
      "==============================\n",
      "Outside bar\n",
      "[]\n",
      "Inside bar\n",
      "['AMD:2020-12-31']\n"
     ]
    }
   ],
   "source": [
    "from datetime import datetime, date\n",
    "\n",
    "token = 'bv1io9f48v6o8tuv6db0'\n",
    "\n",
    "end_date = datetime.now()\n",
    "start_date = end_date - timedelta(days = 10)\n",
    "\n",
    "start_date = start_date.timestamp()\n",
    "end_date = end_date.timestamp()\n",
    "\n",
    "print(datetime.fromtimestamp(int(start_date)).strftime('%Y-%m-%d'))\n",
    "print(datetime.fromtimestamp(int(end_date)).strftime('%Y-%m-%d'))\n",
    "\n",
    "bullish_eng_codes = []\n",
    "bearish_eng_codes = []\n",
    "bullish_swing_codes = []\n",
    "bearish_swing_codes = []\n",
    "\n",
    "bullish_pinbar = []\n",
    "bearish_pinbar = []\n",
    "outside_bar = []\n",
    "inside_bar = []\n",
    "bull_hammer = []\n",
    "bear_hammer = []\n",
    "    \n",
    "for code in symbol_list:\n",
    "    try:\n",
    "        print(f'looking up for {code}...')\n",
    "        my_request = f'https://finnhub.io/api/v1/stock/candle?symbol={code}&resolution=D&from={int(start_date)}&to={int(end_date)}&token={token}'\n",
    "    #     print(f'requesting.... {my_request}')\n",
    "        data = requests.get(my_request).json()\n",
    "        \n",
    "        data.pop('s')\n",
    "\n",
    "        data['trading_date'] = [ datetime.fromtimestamp(tm).strftime('%Y-%m-%d') for tm in data.pop('t') ]\n",
    "\n",
    "\n",
    "        data['close'] = data.pop('c')\n",
    "        data['low'] = data.pop('l')\n",
    "        data['high'] = data.pop('h')\n",
    "        data['open'] = data.pop('o')\n",
    "        data['volume'] = data.pop('v')\n",
    "\n",
    "        new_data = []\n",
    "\n",
    "        for i in range(len(data['close'])):\n",
    "            new_data.append( { x: data[x][i] for x in data })\n",
    "        \n",
    "        \n",
    "        df = pd.json_normalize(new_data)\n",
    "        oo_indexed = df\n",
    "        if oo_indexed.shape[0] < 3:\n",
    "            print(f'cannot analyze data, adjust start date, {data}')\n",
    "            continue\n",
    "        for i in range(2,oo_indexed.shape[0]):\n",
    "#             print(f'Analyzing date {current.trading_date}')\n",
    "            \n",
    "            ctr = 0\n",
    "            current = oo_indexed.iloc[i,:]\n",
    "            prev = oo_indexed.iloc[i-1,:]\n",
    "            prev_2 = oo_indexed.iloc[i-2,:]\n",
    "\n",
    "            if current['open'] < current['close']:\n",
    "                candle_type='Bull'\n",
    "                head_wick = current['high'] - current['close']\n",
    "                tail_wick = current['open'] - current['low']\n",
    "            elif current['open'] == current['close']: \n",
    "                oo_indexed.loc[idx, 'Doji'] = True\n",
    "            else: \n",
    "                candle_type='Bear'\n",
    "                head_wick = current['high'] - current['open']\n",
    "                tail_wick = current['close'] - current['low']\n",
    "                \n",
    "\n",
    "            realbody = abs(current['open'] - current['close'])\n",
    "            candle_range = current['high'] - current['low']\n",
    "\n",
    "            # Bullish Engulfing\n",
    "            if current['high'] > prev['high'] and current['low'] < prev['low'] and realbody >= 0.8 * candle_range and current['close'] > current['open']:\n",
    "                bullish_eng_codes.append(f'{code}:{current.trading_date}')\n",
    "                ctr = 1\n",
    "\n",
    "            # Bearish Engulfing\n",
    "            if current['high'] > prev['high'] and current['low'] < prev['low'] and realbody >= 0.8 * candle_range and current['close'] < current['open']:\n",
    "                bearish_eng_codes.append(f'{code}:{current.trading_date}')\n",
    "                ctr = 2\n",
    "\n",
    "            # Bullish Swing\n",
    "            if current['low'] > prev['low'] and prev['low'] < prev_2['low']:\n",
    "                bullish_swing_codes.append(f'{code}:{current.trading_date}')\n",
    "                ctr = 3\n",
    "\n",
    "            # Bearish Swing\n",
    "            if current['high'] < prev['high'] and prev['high'] > prev_2['high']:\n",
    "                bearish_swing_codes.append(f'{code}:{current.trading_date}')\n",
    "                ctr = 4\n",
    "\n",
    "            # Bullish Pinbar\n",
    "            if realbody <= candle_range/3 and  min(current['open'], current['close']) > (current['high'] + current['low'])/2 and current['low'] < prev['low']:\n",
    "                bullish_pinbar.append(f'{code}:{current.trading_date}')\n",
    "                ctr = 5\n",
    "\n",
    "            # Bearish Pinbar\n",
    "            if realbody <= candle_range/3 and max(current['open'] , current['close']) < (current['high'] + current['low'])/2 and current['high'] > prev['high']:\n",
    "                bearish_pinbar.append(f'{code}:{current.trading_date}')\n",
    "                ctr = 6\n",
    "\n",
    "            # Inside bar\n",
    "            if current['high'] < prev['high'] and current['low'] > prev['low']:\n",
    "                inside_bar.append(f'{code}:{current.trading_date}')\n",
    "                ctr = 7\n",
    "\n",
    "            # Outside bar\n",
    "            if current['high'] > prev['high'] and current['low'] < prev['low']:\n",
    "                outside_bar.append(f'{code}:{current.trading_date}')\n",
    "                ctr = 8\n",
    "\n",
    "            # Hammer\n",
    "            if realbody > head_wick*2 and tail_wick > head_wick*2 and realbody*2 < tail_wick:\n",
    "                if candle_type == 'Bull':\n",
    "                    bull_hammer.append(f'{code}:{current.trading_date}')\n",
    "                    ctr = 9\n",
    "                else:\n",
    "                    print(f'{code}:{current.trading_date}')\n",
    "                    bear_hammer.append(f'{code}:{current.trading_date}')\n",
    "                    ctr = 10\n",
    "\n",
    "            if ctr == 0:\n",
    "                print(f'No pattern for date: {current.trading_date}')\n",
    "    except Exception as e:\n",
    "        print(f'Error for code {code}, {data}, {e}')\n",
    "            \n",
    "print()\n",
    "print()\n",
    "print('=========== BULLS =============')\n",
    "print('Bullish Swing')\n",
    "print(bullish_swing_codes)\n",
    "\n",
    "print('Bullish Pinbar')\n",
    "print(bullish_pinbar)\n",
    "\n",
    "print('Bullish Engulfing')\n",
    "print(bullish_eng_codes)\n",
    "\n",
    "print('Bullish Hammer')\n",
    "print(bull_hammer)\n",
    "\n",
    "print('========== BEARS ==============')\n",
    "\n",
    "print('Bearish Swing')\n",
    "print(bearish_swing_codes)\n",
    "\n",
    "print('Bearish Pinbar')\n",
    "print(bearish_pinbar)\n",
    "\n",
    "print('Bearish Engulfing')\n",
    "print(bearish_eng_codes)\n",
    "\n",
    "print('Bearish Hammer')\n",
    "print(bear_hammer)\n",
    "\n",
    "print('==============================')\n",
    "\n",
    "print('Outside bar')\n",
    "print(outside_bar)\n",
    "\n",
    "print('Inside bar')\n",
    "print(inside_bar)"
   ]
  },
  {
   "cell_type": "code",
   "execution_count": null,
   "metadata": {},
   "outputs": [],
   "source": []
  }
 ],
 "metadata": {
  "kernelspec": {
   "display_name": "Python 3",
   "language": "python",
   "name": "python3"
  },
  "language_info": {
   "codemirror_mode": {
    "name": "ipython",
    "version": 3
   },
   "file_extension": ".py",
   "mimetype": "text/x-python",
   "name": "python",
   "nbconvert_exporter": "python",
   "pygments_lexer": "ipython3",
   "version": "3.8.3"
  }
 },
 "nbformat": 4,
 "nbformat_minor": 4
}

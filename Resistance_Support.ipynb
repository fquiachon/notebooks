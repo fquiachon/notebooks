{
 "cells": [
  {
   "cell_type": "markdown",
   "metadata": {},
   "source": [
    "Reference:\n",
    "https://github.com/hahaharsh7/support-and-resistance-plotting/blob/master/Untitled4.ipynb"
   ]
  },
  {
   "cell_type": "code",
   "execution_count": 1,
   "metadata": {},
   "outputs": [],
   "source": [
    "import yfinance as yf\n",
    "import datetime as dt\n",
    "import pandas as pd\n",
    "from pandas_datareader import data as pdr \n",
    "import matplotlib.pyplot as plt"
   ]
  },
  {
   "cell_type": "code",
   "execution_count": 121,
   "metadata": {},
   "outputs": [],
   "source": [
    "yf.pdr_override()\n",
    "start = dt.datetime(2020,5,1)\n",
    "now = dt.datetime.now()"
   ]
  },
  {
   "cell_type": "code",
   "execution_count": 192,
   "metadata": {},
   "outputs": [
    {
     "name": "stdout",
     "output_type": "stream",
     "text": [
      "[*********************100%***********************]  1 of 1 completed\n"
     ]
    }
   ],
   "source": [
    "# stock = input('Enter a stock symbol  ')\n",
    "stock = 'AMZN'\n",
    "\n",
    "support ={}\n",
    "support_list = []\n",
    "resistance = {}\n",
    "resistance_list =[]\n",
    "df = pdr.get_data_yahoo(stock ,start , now)\n",
    "current_price = round(df['Close'][-1],2)"
   ]
  },
  {
   "cell_type": "code",
   "execution_count": 189,
   "metadata": {},
   "outputs": [],
   "source": [
    "def analyze_resistance():\n",
    "    \n",
    "    resistance.clear()\n",
    "    resistance_list.clear()\n",
    "    dates = {}\n",
    "    counter = 0\n",
    "    lastPivot = 0\n",
    "    Range = [0,0,0,0,0,0,0,0,0,0]\n",
    "    daterange = [0,0,0,0,0,0,0,0,0,0]\n",
    "\n",
    "    r1 = None\n",
    "    r2 = None\n",
    "\n",
    "    for i in df.index:\n",
    "        currentMax = max(Range , default=0)\n",
    "        value=round(df[\"High\"][i],2)\n",
    "\n",
    "        Range=Range[1:9]\n",
    "        Range.append(value)\n",
    "        daterange=daterange[1:9]\n",
    "        daterange.append(i)\n",
    "\n",
    "        if currentMax == max(Range , default=0):\n",
    "            counter+=1\n",
    "        else:\n",
    "            counter = 0\n",
    "        if counter ==  5:\n",
    "            lastPivot=currentMax\n",
    "            dateloc =Range.index(lastPivot)\n",
    "            lastDate = daterange[dateloc]\n",
    "            resistance_list.append(lastPivot)\n",
    "            dates[lastPivot]=str(lastDate)\n",
    "\n",
    "    resistance_list.sort(reverse=True)\n",
    "    for idx in range(len(resistance_list)):\n",
    "        curr = resistance_list[idx]\n",
    "        is_less = current_price < resistance_list[idx]\n",
    "        if not is_less:\n",
    "            r1 = resistance_list[idx-1]\n",
    "            r2 = resistance_list[idx-2]\n",
    "            break\n",
    "    resistance['R1'] = {'date':dates[r1], 'price':r1}\n",
    "    resistance['R2'] = {'date':dates[r2], 'price':r2}"
   ]
  },
  {
   "cell_type": "code",
   "execution_count": 190,
   "metadata": {},
   "outputs": [],
   "source": [
    "def analyze_support():\n",
    "    support.clear()\n",
    "    support_list.clear()\n",
    "    dates = {}\n",
    "    counter = 0\n",
    "    lastPivot = 0\n",
    "    Range = [0,0,0,0,0,0,0,0,0,0]\n",
    "    daterange = [0,0,0,0,0,0,0,0,0,0]\n",
    "\n",
    "    s1 = None\n",
    "    s2 = None\n",
    "\n",
    "    for i in df.index:\n",
    "        currentMin = min(Range , default=0)\n",
    "        value=round(df[\"Low\"][i],2)\n",
    "        Range=Range[1:9]\n",
    "        Range.append(value)\n",
    "        daterange=daterange[1:9]\n",
    "        daterange.append(i)\n",
    "\n",
    "        if currentMin == min(Range , default=0):\n",
    "            counter+=1\n",
    "        else:\n",
    "            counter = 0\n",
    "        if counter ==  5:\n",
    "            lastPivot=currentMin\n",
    "            dateloc =Range.index(lastPivot)\n",
    "            lastDate = daterange[dateloc]\n",
    "            if lastPivot != 0 and dates != 0:\n",
    "                support_list.append(lastPivot)\n",
    "                dates[lastPivot]=str(lastDate)\n",
    "\n",
    "    support_list.sort(reverse=True)\n",
    "    for idx in range(len(support_list)):\n",
    "        curr = support_list[idx]\n",
    "        is_less = current_price > support_list[idx]\n",
    "        if is_less:\n",
    "            s1 = support_list[idx]\n",
    "            s2 = support_list[idx+1]\n",
    "            break\n",
    "\n",
    "    support['S1'] = {'date':dates[s1], 'price':s1}\n",
    "    support['S2'] = {'date':dates[s2], 'price':s2}"
   ]
  },
  {
   "cell_type": "code",
   "execution_count": 193,
   "metadata": {},
   "outputs": [
    {
     "name": "stdout",
     "output_type": "stream",
     "text": [
      "AMZN:3256.93\n",
      "\n",
      "Resistance 1 is @{'date': '2020-12-17 00:00:00', 'price': 3263.51}\n",
      "Support 1 is @{'date': '2020-10-22 00:00:00', 'price': 3121.94}\n",
      "\n",
      "Resistance 2 is @{'date': '2020-07-13 00:00:00', 'price': 3344.29}\n",
      "Support 2 is @{'date': '2020-10-06 00:00:00', 'price': 3090.0}\n"
     ]
    }
   ],
   "source": [
    "analyze_resistance()\n",
    "analyze_support()\n",
    "print(f'{stock}:{round(current_price, 2)}')\n",
    "print()\n",
    "print(f'Resistance 1 is @{resistance[\"R1\"]}')\n",
    "print(f'Support 1 is @{support[\"S1\"]}')\n",
    "print()\n",
    "print(f'Resistance 2 is @{resistance[\"R2\"]}')\n",
    "print(f'Support 2 is @{support[\"S2\"]}')"
   ]
  },
  {
   "cell_type": "code",
   "execution_count": 171,
   "metadata": {},
   "outputs": [
    {
     "name": "stdout",
     "output_type": "stream",
     "text": [
      "1734.86\n",
      "1723.5\n",
      "1516.62\n",
      "1464.97\n",
      "1453.44\n",
      "1415.21\n",
      "1403.84\n",
      "1359.9\n",
      "------\n"
     ]
    }
   ],
   "source": [
    "for sup in support_list:\n",
    "    print(sup)\n",
    "print('------')\n",
    "for res in resistance_list:\n",
    "    print(res)"
   ]
  },
  {
   "cell_type": "code",
   "execution_count": null,
   "metadata": {},
   "outputs": [],
   "source": []
  }
 ],
 "metadata": {
  "kernelspec": {
   "display_name": "Python 3",
   "language": "python",
   "name": "python3"
  },
  "language_info": {
   "codemirror_mode": {
    "name": "ipython",
    "version": 3
   },
   "file_extension": ".py",
   "mimetype": "text/x-python",
   "name": "python",
   "nbconvert_exporter": "python",
   "pygments_lexer": "ipython3",
   "version": "3.8.3"
  }
 },
 "nbformat": 4,
 "nbformat_minor": 4
}

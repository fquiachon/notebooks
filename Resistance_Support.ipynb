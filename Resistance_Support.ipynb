{
 "cells": [
  {
   "cell_type": "markdown",
   "metadata": {},
   "source": [
    "Reference:\n",
    "https://github.com/hahaharsh7/support-and-resistance-plotting/blob/master/Untitled4.ipynb"
   ]
  },
  {
   "cell_type": "code",
   "execution_count": 1,
   "metadata": {},
   "outputs": [],
   "source": [
    "import yfinance as yf\n",
    "import datetime as dt\n",
    "import pandas as pd\n",
    "from pandas_datareader import data as pdr \n",
    "import matplotlib.pyplot as plt"
   ]
  },
  {
   "cell_type": "code",
   "execution_count": 81,
   "metadata": {},
   "outputs": [],
   "source": [
    "yf.pdr_override()\n",
    "start = dt.datetime(2020,1,1)\n",
    "now = dt.datetime.now()\n",
    "# now = dt.datetime(2020,12,31)"
   ]
  },
  {
   "cell_type": "code",
   "execution_count": 82,
   "metadata": {},
   "outputs": [
    {
     "name": "stdout",
     "output_type": "stream",
     "text": [
      "[*********************100%***********************]  1 of 1 completed\n",
      "24.34\n"
     ]
    }
   ],
   "source": [
    "# stock = input('Enter a stock symbol  ')\n",
    "stock = 'DXC'\n",
    "\n",
    "support ={}\n",
    "support_list = []\n",
    "resistance = {}\n",
    "resistance_list =[]\n",
    "df = pdr.get_data_yahoo(stock ,start , now)\n",
    "current_price = round(df['Close'][-1],2)\n",
    "print(current_price)"
   ]
  },
  {
   "cell_type": "code",
   "execution_count": 83,
   "metadata": {},
   "outputs": [],
   "source": [
    "def analyze_resistance():\n",
    "    \n",
    "    resistance.clear()\n",
    "    resistance_list.clear()\n",
    "    dates = {}\n",
    "    counter = 0\n",
    "    lastPivot = 0\n",
    "    Range = [0,0,0,0,0,0,0,0,0,0]\n",
    "    daterange = [0,0,0,0,0,0,0,0,0,0]\n",
    "\n",
    "    r1 = None\n",
    "    r2 = None\n",
    "\n",
    "    for i in df.index:\n",
    "        currentMax = max(Range , default=0)\n",
    "        value=round(df[\"High\"][i],2)\n",
    "\n",
    "        Range=Range[1:9]\n",
    "        Range.append(value)\n",
    "        daterange=daterange[1:9]\n",
    "        daterange.append(i)\n",
    "\n",
    "        if currentMax == max(Range , default=0):\n",
    "            counter+=1\n",
    "        else:\n",
    "            counter = 0\n",
    "        if counter ==  5:\n",
    "            lastPivot=currentMax\n",
    "            dateloc =Range.index(lastPivot)\n",
    "            lastDate = daterange[dateloc]\n",
    "            resistance_list.append(lastPivot)\n",
    "            dates[lastPivot]=str(lastDate)\n",
    "\n",
    "    resistance_list.sort(reverse=True)\n",
    "    \n",
    "    for idx in range(len(resistance_list)):\n",
    "        prev_price = resistance_list[idx]\n",
    "        \n",
    "        if not current_price < prev_price:\n",
    "            r1 = resistance_list[idx-1]\n",
    "            r2 = resistance_list[idx-2]\n",
    "            break\n",
    "        else:\n",
    "            print(f'{current_price} > {prev_price}: { not current_price < prev_price}')\n",
    "            \n",
    "    if r1 < current_price:\n",
    "        resistance['R1'] = \"No resistance\"\n",
    "        resistance['R2'] = \"No resistance\"\n",
    "    else:\n",
    "        resistance['R1'] = {'date':dates[r1], 'price':r1}\n",
    "        resistance['R2'] = {'date':dates[r2], 'price':r2}"
   ]
  },
  {
   "cell_type": "code",
   "execution_count": 84,
   "metadata": {},
   "outputs": [],
   "source": [
    "def analyze_support():\n",
    "    support.clear()\n",
    "    support_list.clear()\n",
    "    dates = {}\n",
    "    counter = 0\n",
    "    lastPivot = 0\n",
    "    Range = [0,0,0,0,0,0,0,0,0,0]\n",
    "    daterange = [0,0,0,0,0,0,0,0,0,0]\n",
    "\n",
    "    s1 = None\n",
    "    s2 = None\n",
    "\n",
    "    for i in df.index:\n",
    "        currentMin = min(Range , default=0)\n",
    "        value=round(df[\"Low\"][i],2)\n",
    "        Range=Range[1:9]\n",
    "        Range.append(value)\n",
    "        daterange=daterange[1:9]\n",
    "        daterange.append(i)\n",
    "\n",
    "        if currentMin == min(Range , default=0):\n",
    "            counter+=1\n",
    "        else:\n",
    "            counter = 0\n",
    "        if counter ==  5:\n",
    "            lastPivot=currentMin\n",
    "            dateloc =Range.index(lastPivot)\n",
    "            lastDate = daterange[dateloc]\n",
    "            if lastPivot != 0 and dates != 0:\n",
    "                support_list.append(lastPivot)\n",
    "                dates[lastPivot]=str(lastDate)\n",
    "    support_list.sort(reverse=True)\n",
    "    for idx in range(len(support_list)):\n",
    "        prev_price = support_list[idx]\n",
    "        if current_price > prev_price:\n",
    "            s1 = support_list[idx]\n",
    "            s2 = support_list[idx+1]\n",
    "            break\n",
    "        else:\n",
    "            print(f'{current_price} > {prev_price}: {current_price > prev_price}')\n",
    "            \n",
    "    if s1 > current_price:\n",
    "        support['S1'] = \"No support\"\n",
    "        support['S2'] = \"No support\"\n",
    "    else:\n",
    "        support['S1'] = {'date':dates[s1], 'price':s1}\n",
    "        support['S2'] = {'date':dates[s2], 'price':s2}\n",
    "        "
   ]
  },
  {
   "cell_type": "code",
   "execution_count": 85,
   "metadata": {},
   "outputs": [
    {
     "name": "stdout",
     "output_type": "stream",
     "text": [
      "24.34 > 38.37: False\n",
      "24.34 > 36.97: False\n",
      "24.34 > 35.75: False\n",
      "24.34 > 25.47: False\n",
      "24.34 > 34.48: False\n",
      "24.34 > 31.38: False\n",
      "DXC:24.34\n",
      "\n",
      "Resistance 1 is @{'date': '2020-12-04 00:00:00', 'price': 25.47}\n",
      "Support 1 is @{'date': '2020-12-21 00:00:00', 'price': 22.36}\n",
      "\n",
      "Resistance 2 is @{'date': '2020-02-07 00:00:00', 'price': 35.75}\n",
      "Support 2 is @{'date': '2020-12-02 00:00:00', 'price': 21.63}\n"
     ]
    }
   ],
   "source": [
    "analyze_resistance()\n",
    "analyze_support()\n",
    "print(f'{stock}:{round(current_price, 2)}')\n",
    "print()\n",
    "print(f'Resistance 1 is @{resistance[\"R1\"]}')\n",
    "print(f'Support 1 is @{support[\"S1\"]}')\n",
    "print()\n",
    "print(f'Resistance 2 is @{resistance[\"R2\"]}')\n",
    "print(f'Support 2 is @{support[\"S2\"]}')"
   ]
  },
  {
   "cell_type": "code",
   "execution_count": 72,
   "metadata": {},
   "outputs": [
    {
     "name": "stdout",
     "output_type": "stream",
     "text": [
      "---Support---\n",
      "34.48\n",
      "31.38\n",
      "22.36\n",
      "21.63\n",
      "18.29\n",
      "16.88\n",
      "15.64\n",
      "14.82\n",
      "14.76\n",
      "14.73\n",
      "14.0\n",
      "13.65\n",
      "13.21\n",
      "11.35\n",
      "7.9\n",
      "\n",
      "---Resistance---\n",
      "38.37\n",
      "36.97\n",
      "35.75\n",
      "25.47\n",
      "23.78\n",
      "22.7\n",
      "21.19\n",
      "21.02\n",
      "19.68\n",
      "19.33\n",
      "17.91\n",
      "17.72\n",
      "17.06\n",
      "16.7\n"
     ]
    }
   ],
   "source": [
    "print('---Support---')\n",
    "for sup in support_list:\n",
    "    print(sup)\n",
    "print()\n",
    "print('---Resistance---')\n",
    "for res in resistance_list:\n",
    "    print(res)"
   ]
  },
  {
   "cell_type": "code",
   "execution_count": null,
   "metadata": {},
   "outputs": [],
   "source": []
  }
 ],
 "metadata": {
  "kernelspec": {
   "display_name": "Python 3",
   "language": "python",
   "name": "python3"
  },
  "language_info": {
   "codemirror_mode": {
    "name": "ipython",
    "version": 3
   },
   "file_extension": ".py",
   "mimetype": "text/x-python",
   "name": "python",
   "nbconvert_exporter": "python",
   "pygments_lexer": "ipython3",
   "version": "3.8.3"
  }
 },
 "nbformat": 4,
 "nbformat_minor": 4
}
